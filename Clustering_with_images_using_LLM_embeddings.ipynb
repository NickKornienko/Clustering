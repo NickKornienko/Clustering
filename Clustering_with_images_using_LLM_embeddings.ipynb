{
  "nbformat": 4,
  "nbformat_minor": 0,
  "metadata": {
    "colab": {
      "provenance": [],
      "authorship_tag": "ABX9TyPKSHPLeuykEUcMuBKhTiJs",
      "include_colab_link": true
    },
    "kernelspec": {
      "name": "python3",
      "display_name": "Python 3"
    },
    "language_info": {
      "name": "python"
    }
  },
  "cells": [
    {
      "cell_type": "markdown",
      "metadata": {
        "id": "view-in-github",
        "colab_type": "text"
      },
      "source": [
        "<a href=\"https://colab.research.google.com/github/NickKornienko/Clustering/blob/main/Clustering_with_images_using_LLM_embeddings.ipynb\" target=\"_parent\"><img src=\"https://colab.research.google.com/assets/colab-badge.svg\" alt=\"Open In Colab\"/></a>"
      ]
    },
    {
      "cell_type": "code",
      "execution_count": 1,
      "metadata": {
        "colab": {
          "base_uri": "https://localhost:8080/"
        },
        "id": "c5R5HHctKqfF",
        "outputId": "e2640d75-76cd-464f-960d-d1815baca0d9"
      },
      "outputs": [
        {
          "output_type": "stream",
          "name": "stdout",
          "text": [
            "Requirement already satisfied: torch in /usr/local/lib/python3.10/dist-packages (2.1.0+cu118)\n",
            "Requirement already satisfied: filelock in /usr/local/lib/python3.10/dist-packages (from torch) (3.13.1)\n",
            "Requirement already satisfied: typing-extensions in /usr/local/lib/python3.10/dist-packages (from torch) (4.5.0)\n",
            "Requirement already satisfied: sympy in /usr/local/lib/python3.10/dist-packages (from torch) (1.12)\n",
            "Requirement already satisfied: networkx in /usr/local/lib/python3.10/dist-packages (from torch) (3.2.1)\n",
            "Requirement already satisfied: jinja2 in /usr/local/lib/python3.10/dist-packages (from torch) (3.1.2)\n",
            "Requirement already satisfied: fsspec in /usr/local/lib/python3.10/dist-packages (from torch) (2023.6.0)\n",
            "Requirement already satisfied: triton==2.1.0 in /usr/local/lib/python3.10/dist-packages (from torch) (2.1.0)\n",
            "Requirement already satisfied: MarkupSafe>=2.0 in /usr/local/lib/python3.10/dist-packages (from jinja2->torch) (2.1.3)\n",
            "Requirement already satisfied: mpmath>=0.19 in /usr/local/lib/python3.10/dist-packages (from sympy->torch) (1.3.0)\n",
            "Requirement already satisfied: transformers in /usr/local/lib/python3.10/dist-packages (4.35.2)\n",
            "Requirement already satisfied: filelock in /usr/local/lib/python3.10/dist-packages (from transformers) (3.13.1)\n",
            "Requirement already satisfied: huggingface-hub<1.0,>=0.16.4 in /usr/local/lib/python3.10/dist-packages (from transformers) (0.19.4)\n",
            "Requirement already satisfied: numpy>=1.17 in /usr/local/lib/python3.10/dist-packages (from transformers) (1.23.5)\n",
            "Requirement already satisfied: packaging>=20.0 in /usr/local/lib/python3.10/dist-packages (from transformers) (23.2)\n",
            "Requirement already satisfied: pyyaml>=5.1 in /usr/local/lib/python3.10/dist-packages (from transformers) (6.0.1)\n",
            "Requirement already satisfied: regex!=2019.12.17 in /usr/local/lib/python3.10/dist-packages (from transformers) (2023.6.3)\n",
            "Requirement already satisfied: requests in /usr/local/lib/python3.10/dist-packages (from transformers) (2.31.0)\n",
            "Requirement already satisfied: tokenizers<0.19,>=0.14 in /usr/local/lib/python3.10/dist-packages (from transformers) (0.15.0)\n",
            "Requirement already satisfied: safetensors>=0.3.1 in /usr/local/lib/python3.10/dist-packages (from transformers) (0.4.0)\n",
            "Requirement already satisfied: tqdm>=4.27 in /usr/local/lib/python3.10/dist-packages (from transformers) (4.66.1)\n",
            "Requirement already satisfied: fsspec>=2023.5.0 in /usr/local/lib/python3.10/dist-packages (from huggingface-hub<1.0,>=0.16.4->transformers) (2023.6.0)\n",
            "Requirement already satisfied: typing-extensions>=3.7.4.3 in /usr/local/lib/python3.10/dist-packages (from huggingface-hub<1.0,>=0.16.4->transformers) (4.5.0)\n",
            "Requirement already satisfied: charset-normalizer<4,>=2 in /usr/local/lib/python3.10/dist-packages (from requests->transformers) (3.3.2)\n",
            "Requirement already satisfied: idna<4,>=2.5 in /usr/local/lib/python3.10/dist-packages (from requests->transformers) (3.4)\n",
            "Requirement already satisfied: urllib3<3,>=1.21.1 in /usr/local/lib/python3.10/dist-packages (from requests->transformers) (2.0.7)\n",
            "Requirement already satisfied: certifi>=2017.4.17 in /usr/local/lib/python3.10/dist-packages (from requests->transformers) (2023.7.22)\n"
          ]
        }
      ],
      "source": [
        "!pip install torch\n",
        "!pip install transformers"
      ]
    },
    {
      "cell_type": "code",
      "source": [
        "from transformers import CLIPProcessor, CLIPModel\n",
        "from PIL import Image\n",
        "import requests\n",
        "from sklearn.cluster import KMeans\n",
        "import numpy as np\n",
        "import os\n",
        "import torch"
      ],
      "metadata": {
        "id": "shvBKEOoK1H0"
      },
      "execution_count": 6,
      "outputs": []
    },
    {
      "cell_type": "code",
      "source": [
        "# Load CLIP model and processor\n",
        "model = CLIPModel.from_pretrained(\"openai/clip-vit-base-patch32\")\n",
        "processor = CLIPProcessor.from_pretrained(\"openai/clip-vit-base-patch32\")"
      ],
      "metadata": {
        "id": "x0gqPd99K4dD"
      },
      "execution_count": 3,
      "outputs": []
    },
    {
      "cell_type": "code",
      "source": [
        "# Load images from local paths\n",
        "image_paths = [f\"/content/Image_{i}.jpg\" for i in range(1, 101)]\n",
        "\n",
        "images = []\n",
        "\n",
        "for image_path in image_paths:\n",
        "    try:\n",
        "        image = Image.open(image_path)\n",
        "        images.append(image)\n",
        "    except IOError as e:\n",
        "        print(f\"Error loading image: {image_path} {e}\")\n",
        "\n",
        "# Process the images\n",
        "processed_images = [processor(images=image, return_tensors=\"pt\") for image in images]"
      ],
      "metadata": {
        "id": "nZcshpM8K_IM"
      },
      "execution_count": 4,
      "outputs": []
    },
    {
      "cell_type": "code",
      "source": [
        "# Generate embeddings using CLIP\n",
        "embeddings = [model.get_image_features(processed['pixel_values']).squeeze() for processed in processed_images]\n",
        "embeddings = torch.stack(embeddings)"
      ],
      "metadata": {
        "id": "RX10DfNILYbq"
      },
      "execution_count": 7,
      "outputs": []
    },
    {
      "cell_type": "code",
      "source": [
        "# Apply Clustering Algorithm\n",
        "embeddings_np = embeddings.detach().numpy()\n",
        "kmeans = KMeans(n_clusters=n_clusters)\n",
        "kmeans.fit(embeddings_np)\n",
        "labels = kmeans.labels_"
      ],
      "metadata": {
        "colab": {
          "base_uri": "https://localhost:8080/"
        },
        "id": "18J6dtrgLbuK",
        "outputId": "aafb2c3b-eaf4-407d-c1e4-f25eccc85e41"
      },
      "execution_count": 10,
      "outputs": [
        {
          "output_type": "stream",
          "name": "stderr",
          "text": [
            "/usr/local/lib/python3.10/dist-packages/sklearn/cluster/_kmeans.py:870: FutureWarning: The default value of `n_init` will change from 10 to 'auto' in 1.4. Set the value of `n_init` explicitly to suppress the warning\n",
            "  warnings.warn(\n"
          ]
        }
      ]
    },
    {
      "cell_type": "code",
      "source": [
        "# Analyze the Clustering Results\n",
        "for i in range(n_clusters):\n",
        "    print(f\"\\nCluster {i}:\")\n",
        "    for path, label in zip(image_paths, labels):\n",
        "        if label == i:\n",
        "            print(path)"
      ],
      "metadata": {
        "colab": {
          "base_uri": "https://localhost:8080/"
        },
        "id": "e_iYlcHGLgzU",
        "outputId": "f0bf0266-02e3-49c8-8997-0d6c089d8828"
      },
      "execution_count": 12,
      "outputs": [
        {
          "output_type": "stream",
          "name": "stdout",
          "text": [
            "\n",
            "Cluster 0:\n",
            "/content/Image_1.jpg\n",
            "/content/Image_2.jpg\n",
            "/content/Image_9.jpg\n",
            "/content/Image_11.jpg\n",
            "/content/Image_25.jpg\n",
            "/content/Image_30.jpg\n",
            "/content/Image_47.jpg\n",
            "/content/Image_48.jpg\n",
            "/content/Image_49.jpg\n",
            "/content/Image_53.jpg\n",
            "/content/Image_56.jpg\n",
            "/content/Image_59.jpg\n",
            "/content/Image_60.jpg\n",
            "/content/Image_65.jpg\n",
            "/content/Image_76.jpg\n",
            "/content/Image_92.jpg\n",
            "/content/Image_94.jpg\n",
            "/content/Image_98.jpg\n",
            "/content/Image_99.jpg\n",
            "\n",
            "Cluster 1:\n",
            "/content/Image_3.jpg\n",
            "/content/Image_7.jpg\n",
            "/content/Image_10.jpg\n",
            "/content/Image_16.jpg\n",
            "/content/Image_19.jpg\n",
            "/content/Image_20.jpg\n",
            "/content/Image_21.jpg\n",
            "/content/Image_26.jpg\n",
            "/content/Image_35.jpg\n",
            "/content/Image_43.jpg\n",
            "/content/Image_46.jpg\n",
            "/content/Image_51.jpg\n",
            "/content/Image_55.jpg\n",
            "/content/Image_63.jpg\n",
            "/content/Image_64.jpg\n",
            "/content/Image_66.jpg\n",
            "/content/Image_68.jpg\n",
            "/content/Image_75.jpg\n",
            "/content/Image_83.jpg\n",
            "/content/Image_85.jpg\n",
            "/content/Image_91.jpg\n",
            "\n",
            "Cluster 2:\n",
            "/content/Image_4.jpg\n",
            "/content/Image_5.jpg\n",
            "/content/Image_6.jpg\n",
            "/content/Image_14.jpg\n",
            "/content/Image_15.jpg\n",
            "/content/Image_17.jpg\n",
            "/content/Image_18.jpg\n",
            "/content/Image_22.jpg\n",
            "/content/Image_24.jpg\n",
            "/content/Image_28.jpg\n",
            "/content/Image_34.jpg\n",
            "/content/Image_37.jpg\n",
            "/content/Image_39.jpg\n",
            "/content/Image_42.jpg\n",
            "/content/Image_44.jpg\n",
            "/content/Image_45.jpg\n",
            "/content/Image_57.jpg\n",
            "/content/Image_61.jpg\n",
            "/content/Image_69.jpg\n",
            "/content/Image_70.jpg\n",
            "/content/Image_72.jpg\n",
            "/content/Image_73.jpg\n",
            "/content/Image_77.jpg\n",
            "/content/Image_79.jpg\n",
            "/content/Image_81.jpg\n",
            "/content/Image_82.jpg\n",
            "/content/Image_84.jpg\n",
            "/content/Image_87.jpg\n",
            "/content/Image_88.jpg\n",
            "/content/Image_90.jpg\n",
            "/content/Image_93.jpg\n",
            "/content/Image_96.jpg\n",
            "/content/Image_97.jpg\n",
            "\n",
            "Cluster 3:\n",
            "/content/Image_13.jpg\n",
            "/content/Image_29.jpg\n",
            "/content/Image_31.jpg\n",
            "/content/Image_38.jpg\n",
            "/content/Image_40.jpg\n",
            "/content/Image_41.jpg\n",
            "/content/Image_52.jpg\n",
            "/content/Image_54.jpg\n",
            "/content/Image_62.jpg\n",
            "/content/Image_74.jpg\n",
            "/content/Image_78.jpg\n",
            "/content/Image_86.jpg\n",
            "/content/Image_89.jpg\n",
            "/content/Image_95.jpg\n",
            "\n",
            "Cluster 4:\n",
            "/content/Image_8.jpg\n",
            "/content/Image_12.jpg\n",
            "/content/Image_23.jpg\n",
            "/content/Image_27.jpg\n",
            "/content/Image_32.jpg\n",
            "/content/Image_33.jpg\n",
            "/content/Image_36.jpg\n",
            "/content/Image_50.jpg\n",
            "/content/Image_58.jpg\n",
            "/content/Image_67.jpg\n",
            "/content/Image_71.jpg\n",
            "/content/Image_80.jpg\n",
            "/content/Image_100.jpg\n"
          ]
        }
      ]
    }
  ]
}