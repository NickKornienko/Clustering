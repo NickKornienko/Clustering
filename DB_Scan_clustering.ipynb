{
  "nbformat": 4,
  "nbformat_minor": 0,
  "metadata": {
    "colab": {
      "provenance": [],
      "authorship_tag": "ABX9TyMOcG2iMGJbqX78SQseAijx",
      "include_colab_link": true
    },
    "kernelspec": {
      "name": "python3",
      "display_name": "Python 3"
    },
    "language_info": {
      "name": "python"
    },
    "widgets": {
      "application/vnd.jupyter.widget-state+json": {
        "5b6eba9e9292485b8c5136e1aba895c3": {
          "model_module": "@jupyter-widgets/controls",
          "model_name": "HBoxModel",
          "model_module_version": "1.5.0",
          "state": {
            "_dom_classes": [],
            "_model_module": "@jupyter-widgets/controls",
            "_model_module_version": "1.5.0",
            "_model_name": "HBoxModel",
            "_view_count": null,
            "_view_module": "@jupyter-widgets/controls",
            "_view_module_version": "1.5.0",
            "_view_name": "HBoxView",
            "box_style": "",
            "children": [
              "IPY_MODEL_9477c2ab579c4dd4bab9a3c6bcdf2297",
              "IPY_MODEL_76f2143001cb4e84a673e307e08a9b1a",
              "IPY_MODEL_7bcd7d5a16444bc1bd1447a966ad55ee"
            ],
            "layout": "IPY_MODEL_e1f65340ab6e4c64a24becb240c2b290"
          }
        },
        "9477c2ab579c4dd4bab9a3c6bcdf2297": {
          "model_module": "@jupyter-widgets/controls",
          "model_name": "HTMLModel",
          "model_module_version": "1.5.0",
          "state": {
            "_dom_classes": [],
            "_model_module": "@jupyter-widgets/controls",
            "_model_module_version": "1.5.0",
            "_model_name": "HTMLModel",
            "_view_count": null,
            "_view_module": "@jupyter-widgets/controls",
            "_view_module_version": "1.5.0",
            "_view_name": "HTMLView",
            "description": "",
            "description_tooltip": null,
            "layout": "IPY_MODEL_e8612d5e1b134a138dbd833e5d476796",
            "placeholder": "​",
            "style": "IPY_MODEL_10870c5a72fa4b9ea4a5dfc2d90fe989",
            "value": "Processing:   0%"
          }
        },
        "76f2143001cb4e84a673e307e08a9b1a": {
          "model_module": "@jupyter-widgets/controls",
          "model_name": "FloatProgressModel",
          "model_module_version": "1.5.0",
          "state": {
            "_dom_classes": [],
            "_model_module": "@jupyter-widgets/controls",
            "_model_module_version": "1.5.0",
            "_model_name": "FloatProgressModel",
            "_view_count": null,
            "_view_module": "@jupyter-widgets/controls",
            "_view_module_version": "1.5.0",
            "_view_name": "ProgressView",
            "bar_style": "",
            "description": "",
            "description_tooltip": null,
            "layout": "IPY_MODEL_fb542d1576524b72a2dbabb90c7ffa06",
            "max": 3,
            "min": 0,
            "orientation": "horizontal",
            "style": "IPY_MODEL_5d5135dd9e85441fa85eb95ce6d5a4ea",
            "value": 3
          }
        },
        "7bcd7d5a16444bc1bd1447a966ad55ee": {
          "model_module": "@jupyter-widgets/controls",
          "model_name": "HTMLModel",
          "model_module_version": "1.5.0",
          "state": {
            "_dom_classes": [],
            "_model_module": "@jupyter-widgets/controls",
            "_model_module_version": "1.5.0",
            "_model_name": "HTMLModel",
            "_view_count": null,
            "_view_module": "@jupyter-widgets/controls",
            "_view_module_version": "1.5.0",
            "_view_name": "HTMLView",
            "description": "",
            "description_tooltip": null,
            "layout": "IPY_MODEL_e072cf6da67c4b2e948a9a05719e527a",
            "placeholder": "​",
            "style": "IPY_MODEL_815e21f8b8f34b8b9b2611e4a7f26f12",
            "value": " 0/3 [00:00&lt;?, ?it/s]"
          }
        },
        "e1f65340ab6e4c64a24becb240c2b290": {
          "model_module": "@jupyter-widgets/base",
          "model_name": "LayoutModel",
          "model_module_version": "1.2.0",
          "state": {
            "_model_module": "@jupyter-widgets/base",
            "_model_module_version": "1.2.0",
            "_model_name": "LayoutModel",
            "_view_count": null,
            "_view_module": "@jupyter-widgets/base",
            "_view_module_version": "1.2.0",
            "_view_name": "LayoutView",
            "align_content": null,
            "align_items": null,
            "align_self": null,
            "border": null,
            "bottom": null,
            "display": null,
            "flex": null,
            "flex_flow": null,
            "grid_area": null,
            "grid_auto_columns": null,
            "grid_auto_flow": null,
            "grid_auto_rows": null,
            "grid_column": null,
            "grid_gap": null,
            "grid_row": null,
            "grid_template_areas": null,
            "grid_template_columns": null,
            "grid_template_rows": null,
            "height": null,
            "justify_content": null,
            "justify_items": null,
            "left": null,
            "margin": null,
            "max_height": null,
            "max_width": null,
            "min_height": null,
            "min_width": null,
            "object_fit": null,
            "object_position": null,
            "order": null,
            "overflow": null,
            "overflow_x": null,
            "overflow_y": null,
            "padding": null,
            "right": null,
            "top": null,
            "visibility": "hidden",
            "width": null
          }
        },
        "e8612d5e1b134a138dbd833e5d476796": {
          "model_module": "@jupyter-widgets/base",
          "model_name": "LayoutModel",
          "model_module_version": "1.2.0",
          "state": {
            "_model_module": "@jupyter-widgets/base",
            "_model_module_version": "1.2.0",
            "_model_name": "LayoutModel",
            "_view_count": null,
            "_view_module": "@jupyter-widgets/base",
            "_view_module_version": "1.2.0",
            "_view_name": "LayoutView",
            "align_content": null,
            "align_items": null,
            "align_self": null,
            "border": null,
            "bottom": null,
            "display": null,
            "flex": null,
            "flex_flow": null,
            "grid_area": null,
            "grid_auto_columns": null,
            "grid_auto_flow": null,
            "grid_auto_rows": null,
            "grid_column": null,
            "grid_gap": null,
            "grid_row": null,
            "grid_template_areas": null,
            "grid_template_columns": null,
            "grid_template_rows": null,
            "height": null,
            "justify_content": null,
            "justify_items": null,
            "left": null,
            "margin": null,
            "max_height": null,
            "max_width": null,
            "min_height": null,
            "min_width": null,
            "object_fit": null,
            "object_position": null,
            "order": null,
            "overflow": null,
            "overflow_x": null,
            "overflow_y": null,
            "padding": null,
            "right": null,
            "top": null,
            "visibility": null,
            "width": null
          }
        },
        "10870c5a72fa4b9ea4a5dfc2d90fe989": {
          "model_module": "@jupyter-widgets/controls",
          "model_name": "DescriptionStyleModel",
          "model_module_version": "1.5.0",
          "state": {
            "_model_module": "@jupyter-widgets/controls",
            "_model_module_version": "1.5.0",
            "_model_name": "DescriptionStyleModel",
            "_view_count": null,
            "_view_module": "@jupyter-widgets/base",
            "_view_module_version": "1.2.0",
            "_view_name": "StyleView",
            "description_width": ""
          }
        },
        "fb542d1576524b72a2dbabb90c7ffa06": {
          "model_module": "@jupyter-widgets/base",
          "model_name": "LayoutModel",
          "model_module_version": "1.2.0",
          "state": {
            "_model_module": "@jupyter-widgets/base",
            "_model_module_version": "1.2.0",
            "_model_name": "LayoutModel",
            "_view_count": null,
            "_view_module": "@jupyter-widgets/base",
            "_view_module_version": "1.2.0",
            "_view_name": "LayoutView",
            "align_content": null,
            "align_items": null,
            "align_self": null,
            "border": null,
            "bottom": null,
            "display": null,
            "flex": null,
            "flex_flow": null,
            "grid_area": null,
            "grid_auto_columns": null,
            "grid_auto_flow": null,
            "grid_auto_rows": null,
            "grid_column": null,
            "grid_gap": null,
            "grid_row": null,
            "grid_template_areas": null,
            "grid_template_columns": null,
            "grid_template_rows": null,
            "height": null,
            "justify_content": null,
            "justify_items": null,
            "left": null,
            "margin": null,
            "max_height": null,
            "max_width": null,
            "min_height": null,
            "min_width": null,
            "object_fit": null,
            "object_position": null,
            "order": null,
            "overflow": null,
            "overflow_x": null,
            "overflow_y": null,
            "padding": null,
            "right": null,
            "top": null,
            "visibility": null,
            "width": null
          }
        },
        "5d5135dd9e85441fa85eb95ce6d5a4ea": {
          "model_module": "@jupyter-widgets/controls",
          "model_name": "ProgressStyleModel",
          "model_module_version": "1.5.0",
          "state": {
            "_model_module": "@jupyter-widgets/controls",
            "_model_module_version": "1.5.0",
            "_model_name": "ProgressStyleModel",
            "_view_count": null,
            "_view_module": "@jupyter-widgets/base",
            "_view_module_version": "1.2.0",
            "_view_name": "StyleView",
            "bar_color": null,
            "description_width": ""
          }
        },
        "e072cf6da67c4b2e948a9a05719e527a": {
          "model_module": "@jupyter-widgets/base",
          "model_name": "LayoutModel",
          "model_module_version": "1.2.0",
          "state": {
            "_model_module": "@jupyter-widgets/base",
            "_model_module_version": "1.2.0",
            "_model_name": "LayoutModel",
            "_view_count": null,
            "_view_module": "@jupyter-widgets/base",
            "_view_module_version": "1.2.0",
            "_view_name": "LayoutView",
            "align_content": null,
            "align_items": null,
            "align_self": null,
            "border": null,
            "bottom": null,
            "display": null,
            "flex": null,
            "flex_flow": null,
            "grid_area": null,
            "grid_auto_columns": null,
            "grid_auto_flow": null,
            "grid_auto_rows": null,
            "grid_column": null,
            "grid_gap": null,
            "grid_row": null,
            "grid_template_areas": null,
            "grid_template_columns": null,
            "grid_template_rows": null,
            "height": null,
            "justify_content": null,
            "justify_items": null,
            "left": null,
            "margin": null,
            "max_height": null,
            "max_width": null,
            "min_height": null,
            "min_width": null,
            "object_fit": null,
            "object_position": null,
            "order": null,
            "overflow": null,
            "overflow_x": null,
            "overflow_y": null,
            "padding": null,
            "right": null,
            "top": null,
            "visibility": null,
            "width": null
          }
        },
        "815e21f8b8f34b8b9b2611e4a7f26f12": {
          "model_module": "@jupyter-widgets/controls",
          "model_name": "DescriptionStyleModel",
          "model_module_version": "1.5.0",
          "state": {
            "_model_module": "@jupyter-widgets/controls",
            "_model_module_version": "1.5.0",
            "_model_name": "DescriptionStyleModel",
            "_view_count": null,
            "_view_module": "@jupyter-widgets/base",
            "_view_module_version": "1.2.0",
            "_view_name": "StyleView",
            "description_width": ""
          }
        }
      }
    }
  },
  "cells": [
    {
      "cell_type": "markdown",
      "metadata": {
        "id": "view-in-github",
        "colab_type": "text"
      },
      "source": [
        "<a href=\"https://colab.research.google.com/github/NickKornienko/Clustering/blob/main/DB_Scan_clustering.ipynb\" target=\"_parent\"><img src=\"https://colab.research.google.com/assets/colab-badge.svg\" alt=\"Open In Colab\"/></a>"
      ]
    },
    {
      "cell_type": "code",
      "execution_count": null,
      "metadata": {
        "id": "CZKISqlTBxXY"
      },
      "outputs": [],
      "source": [
        "!pip install pycaret"
      ]
    },
    {
      "cell_type": "code",
      "source": [
        "from pycaret.datasets import get_data\n",
        "from pycaret.clustering import *\n",
        "import pandas as pd\n",
        "import numpy as np"
      ],
      "metadata": {
        "id": "zk4epTRUB5kc"
      },
      "execution_count": 7,
      "outputs": []
    },
    {
      "cell_type": "code",
      "source": [
        "# Synthetic data\n",
        "from sklearn.datasets import make_moons\n",
        "X, _ = make_moons(n_samples=300, noise=0.05, random_state=42)\n",
        "df = pd.DataFrame(X, columns=['Feature_1', 'Feature_2'])"
      ],
      "metadata": {
        "id": "bks82a-mB5iT"
      },
      "execution_count": 8,
      "outputs": []
    },
    {
      "cell_type": "code",
      "source": [
        "# Create the model\n",
        "clustering_setup = setup(df, session_id=123)\n",
        "dbscan_model = create_model('dbscan', eps=0.3, min_samples=5)"
      ],
      "metadata": {
        "colab": {
          "base_uri": "https://localhost:8080/",
          "height": 520,
          "referenced_widgets": [
            "5b6eba9e9292485b8c5136e1aba895c3",
            "9477c2ab579c4dd4bab9a3c6bcdf2297",
            "76f2143001cb4e84a673e307e08a9b1a",
            "7bcd7d5a16444bc1bd1447a966ad55ee",
            "e1f65340ab6e4c64a24becb240c2b290",
            "e8612d5e1b134a138dbd833e5d476796",
            "10870c5a72fa4b9ea4a5dfc2d90fe989",
            "fb542d1576524b72a2dbabb90c7ffa06",
            "5d5135dd9e85441fa85eb95ce6d5a4ea",
            "e072cf6da67c4b2e948a9a05719e527a",
            "815e21f8b8f34b8b9b2611e4a7f26f12"
          ]
        },
        "id": "Zauxpz9MB5f5",
        "outputId": "6885e143-cd31-4d8f-e531-9cbb38741d1c"
      },
      "execution_count": 12,
      "outputs": [
        {
          "output_type": "display_data",
          "data": {
            "text/plain": [
              "<pandas.io.formats.style.Styler at 0x7a4f086261d0>"
            ],
            "text/html": [
              "<style type=\"text/css\">\n",
              "#T_c61b3_row4_col1 {\n",
              "  background-color: lightgreen;\n",
              "}\n",
              "</style>\n",
              "<table id=\"T_c61b3\" class=\"dataframe\">\n",
              "  <thead>\n",
              "    <tr>\n",
              "      <th class=\"blank level0\" >&nbsp;</th>\n",
              "      <th id=\"T_c61b3_level0_col0\" class=\"col_heading level0 col0\" >Description</th>\n",
              "      <th id=\"T_c61b3_level0_col1\" class=\"col_heading level0 col1\" >Value</th>\n",
              "    </tr>\n",
              "  </thead>\n",
              "  <tbody>\n",
              "    <tr>\n",
              "      <th id=\"T_c61b3_level0_row0\" class=\"row_heading level0 row0\" >0</th>\n",
              "      <td id=\"T_c61b3_row0_col0\" class=\"data row0 col0\" >Session id</td>\n",
              "      <td id=\"T_c61b3_row0_col1\" class=\"data row0 col1\" >123</td>\n",
              "    </tr>\n",
              "    <tr>\n",
              "      <th id=\"T_c61b3_level0_row1\" class=\"row_heading level0 row1\" >1</th>\n",
              "      <td id=\"T_c61b3_row1_col0\" class=\"data row1 col0\" >Original data shape</td>\n",
              "      <td id=\"T_c61b3_row1_col1\" class=\"data row1 col1\" >(300, 2)</td>\n",
              "    </tr>\n",
              "    <tr>\n",
              "      <th id=\"T_c61b3_level0_row2\" class=\"row_heading level0 row2\" >2</th>\n",
              "      <td id=\"T_c61b3_row2_col0\" class=\"data row2 col0\" >Transformed data shape</td>\n",
              "      <td id=\"T_c61b3_row2_col1\" class=\"data row2 col1\" >(300, 2)</td>\n",
              "    </tr>\n",
              "    <tr>\n",
              "      <th id=\"T_c61b3_level0_row3\" class=\"row_heading level0 row3\" >3</th>\n",
              "      <td id=\"T_c61b3_row3_col0\" class=\"data row3 col0\" >Numeric features</td>\n",
              "      <td id=\"T_c61b3_row3_col1\" class=\"data row3 col1\" >2</td>\n",
              "    </tr>\n",
              "    <tr>\n",
              "      <th id=\"T_c61b3_level0_row4\" class=\"row_heading level0 row4\" >4</th>\n",
              "      <td id=\"T_c61b3_row4_col0\" class=\"data row4 col0\" >Preprocess</td>\n",
              "      <td id=\"T_c61b3_row4_col1\" class=\"data row4 col1\" >True</td>\n",
              "    </tr>\n",
              "    <tr>\n",
              "      <th id=\"T_c61b3_level0_row5\" class=\"row_heading level0 row5\" >5</th>\n",
              "      <td id=\"T_c61b3_row5_col0\" class=\"data row5 col0\" >Imputation type</td>\n",
              "      <td id=\"T_c61b3_row5_col1\" class=\"data row5 col1\" >simple</td>\n",
              "    </tr>\n",
              "    <tr>\n",
              "      <th id=\"T_c61b3_level0_row6\" class=\"row_heading level0 row6\" >6</th>\n",
              "      <td id=\"T_c61b3_row6_col0\" class=\"data row6 col0\" >Numeric imputation</td>\n",
              "      <td id=\"T_c61b3_row6_col1\" class=\"data row6 col1\" >mean</td>\n",
              "    </tr>\n",
              "    <tr>\n",
              "      <th id=\"T_c61b3_level0_row7\" class=\"row_heading level0 row7\" >7</th>\n",
              "      <td id=\"T_c61b3_row7_col0\" class=\"data row7 col0\" >Categorical imputation</td>\n",
              "      <td id=\"T_c61b3_row7_col1\" class=\"data row7 col1\" >mode</td>\n",
              "    </tr>\n",
              "    <tr>\n",
              "      <th id=\"T_c61b3_level0_row8\" class=\"row_heading level0 row8\" >8</th>\n",
              "      <td id=\"T_c61b3_row8_col0\" class=\"data row8 col0\" >CPU Jobs</td>\n",
              "      <td id=\"T_c61b3_row8_col1\" class=\"data row8 col1\" >-1</td>\n",
              "    </tr>\n",
              "    <tr>\n",
              "      <th id=\"T_c61b3_level0_row9\" class=\"row_heading level0 row9\" >9</th>\n",
              "      <td id=\"T_c61b3_row9_col0\" class=\"data row9 col0\" >Use GPU</td>\n",
              "      <td id=\"T_c61b3_row9_col1\" class=\"data row9 col1\" >False</td>\n",
              "    </tr>\n",
              "    <tr>\n",
              "      <th id=\"T_c61b3_level0_row10\" class=\"row_heading level0 row10\" >10</th>\n",
              "      <td id=\"T_c61b3_row10_col0\" class=\"data row10 col0\" >Log Experiment</td>\n",
              "      <td id=\"T_c61b3_row10_col1\" class=\"data row10 col1\" >False</td>\n",
              "    </tr>\n",
              "    <tr>\n",
              "      <th id=\"T_c61b3_level0_row11\" class=\"row_heading level0 row11\" >11</th>\n",
              "      <td id=\"T_c61b3_row11_col0\" class=\"data row11 col0\" >Experiment Name</td>\n",
              "      <td id=\"T_c61b3_row11_col1\" class=\"data row11 col1\" >cluster-default-name</td>\n",
              "    </tr>\n",
              "    <tr>\n",
              "      <th id=\"T_c61b3_level0_row12\" class=\"row_heading level0 row12\" >12</th>\n",
              "      <td id=\"T_c61b3_row12_col0\" class=\"data row12 col0\" >USI</td>\n",
              "      <td id=\"T_c61b3_row12_col1\" class=\"data row12 col1\" >73a3</td>\n",
              "    </tr>\n",
              "  </tbody>\n",
              "</table>\n"
            ]
          },
          "metadata": {}
        },
        {
          "output_type": "display_data",
          "data": {
            "text/plain": [
              "<IPython.core.display.HTML object>"
            ],
            "text/html": []
          },
          "metadata": {}
        },
        {
          "output_type": "display_data",
          "data": {
            "text/plain": [
              "<pandas.io.formats.style.Styler at 0x7a4f08626950>"
            ],
            "text/html": [
              "<style type=\"text/css\">\n",
              "</style>\n",
              "<table id=\"T_47c96\" class=\"dataframe\">\n",
              "  <thead>\n",
              "    <tr>\n",
              "      <th class=\"blank level0\" >&nbsp;</th>\n",
              "      <th id=\"T_47c96_level0_col0\" class=\"col_heading level0 col0\" >Silhouette</th>\n",
              "      <th id=\"T_47c96_level0_col1\" class=\"col_heading level0 col1\" >Calinski-Harabasz</th>\n",
              "      <th id=\"T_47c96_level0_col2\" class=\"col_heading level0 col2\" >Davies-Bouldin</th>\n",
              "      <th id=\"T_47c96_level0_col3\" class=\"col_heading level0 col3\" >Homogeneity</th>\n",
              "      <th id=\"T_47c96_level0_col4\" class=\"col_heading level0 col4\" >Rand Index</th>\n",
              "      <th id=\"T_47c96_level0_col5\" class=\"col_heading level0 col5\" >Completeness</th>\n",
              "    </tr>\n",
              "  </thead>\n",
              "  <tbody>\n",
              "    <tr>\n",
              "      <th id=\"T_47c96_level0_row0\" class=\"row_heading level0 row0\" >0</th>\n",
              "      <td id=\"T_47c96_row0_col0\" class=\"data row0 col0\" >0.3308</td>\n",
              "      <td id=\"T_47c96_row0_col1\" class=\"data row0 col1\" >198.3790</td>\n",
              "      <td id=\"T_47c96_row0_col2\" class=\"data row0 col2\" >1.1521</td>\n",
              "      <td id=\"T_47c96_row0_col3\" class=\"data row0 col3\" >0</td>\n",
              "      <td id=\"T_47c96_row0_col4\" class=\"data row0 col4\" >0</td>\n",
              "      <td id=\"T_47c96_row0_col5\" class=\"data row0 col5\" >0</td>\n",
              "    </tr>\n",
              "  </tbody>\n",
              "</table>\n"
            ]
          },
          "metadata": {}
        },
        {
          "output_type": "display_data",
          "data": {
            "text/plain": [
              "Processing:   0%|          | 0/3 [00:00<?, ?it/s]"
            ],
            "application/vnd.jupyter.widget-view+json": {
              "version_major": 2,
              "version_minor": 0,
              "model_id": "5b6eba9e9292485b8c5136e1aba895c3"
            }
          },
          "metadata": {
            "application/vnd.jupyter.widget-view+json": {
              "colab": {
                "custom_widget_manager": {
                  "url": "https://ssl.gstatic.com/colaboratory-static/widgets/colab-cdn-widget-manager/b3e629b1971e1542/manager.min.js"
                }
              }
            }
          }
        },
        {
          "output_type": "display_data",
          "data": {
            "text/plain": [
              "<IPython.core.display.HTML object>"
            ],
            "text/html": []
          },
          "metadata": {}
        }
      ]
    },
    {
      "cell_type": "code",
      "source": [
        "# Plot the data\n",
        "plot_model(dbscan_model, plot='cluster')"
      ],
      "metadata": {
        "colab": {
          "base_uri": "https://localhost:8080/",
          "height": 617
        },
        "id": "av-r6ZBTCIrb",
        "outputId": "ac2104d1-a037-4bfb-cbf4-f8ffe55f4141"
      },
      "execution_count": 13,
      "outputs": [
        {
          "output_type": "display_data",
          "data": {
            "text/plain": [
              "<IPython.core.display.HTML object>"
            ],
            "text/html": []
          },
          "metadata": {}
        },
        {
          "output_type": "display_data",
          "data": {
            "text/html": [
              "<html>\n",
              "<head><meta charset=\"utf-8\" /></head>\n",
              "<body>\n",
              "    <div>            <script src=\"https://cdnjs.cloudflare.com/ajax/libs/mathjax/2.7.5/MathJax.js?config=TeX-AMS-MML_SVG\"></script><script type=\"text/javascript\">if (window.MathJax && window.MathJax.Hub && window.MathJax.Hub.Config) {window.MathJax.Hub.Config({SVG: {font: \"STIX-Web\"}});}</script>                <script type=\"text/javascript\">window.PlotlyConfig = {MathJaxConfig: 'local'};</script>\n",
              "        <script charset=\"utf-8\" src=\"https://cdn.plot.ly/plotly-2.24.1.min.js\"></script>                <div id=\"471b8b27-71b0-40c4-9ee0-6189d53450fc\" class=\"plotly-graph-div\" style=\"height:600px; width:100%;\"></div>            <script type=\"text/javascript\">                                    window.PLOTLYENV=window.PLOTLYENV || {};                                    if (document.getElementById(\"471b8b27-71b0-40c4-9ee0-6189d53450fc\")) {                    Plotly.newPlot(                        \"471b8b27-71b0-40c4-9ee0-6189d53450fc\",                        [{\"customdata\":[[0.62251914],[0.019123852],[0.29043955],[0.07356035],[1.7030702],[1.6144695],[2.0260298],[1.3206909],[0.41703382],[1.9997683],[0.6643459],[0.1085263],[0.70284295],[1.8719983],[1.7899618],[-0.06615263],[0.14940836],[0.16416575],[0.43701702],[0.6942051],[0.401104],[2.040457],[1.0494785],[0.88716745],[0.3767195],[0.17329784],[1.7686276],[1.110827],[-0.0771435],[0.24722566],[1.7493869],[1.7709098],[0.59396976],[1.9819617],[0.21908163],[1.0469447],[1.6863681],[1.6423947],[1.4340646],[1.4310157],[1.0243238],[0.13034773],[0.6676887],[1.7231108],[1.376731],[2.1311975],[0.47600043],[1.9393725],[1.757721],[1.7537761],[0.7544651],[1.6893439],[1.9004385],[1.5936687],[-0.022731826],[0.55673116],[-0.013510166],[1.2275969],[0.5093732],[1.4132429],[1.9860412],[1.8255122],[0.06670792],[1.5543838],[1.5034568],[0.099467814],[0.1289344],[0.8172281],[1.8838706],[1.7424884],[1.7971859],[0.92971724],[0.025103256],[1.9735914],[0.76124686],[1.3942512],[0.4504786],[0.018834407],[0.6642082],[0.019335132],[2.0015066],[1.6953018],[1.8252649],[1.6021689],[1.0660295],[0.42402017],[0.8570165],[0.89255464],[1.2987676],[0.4147365],[1.8841861],[1.8792447],[2.0210774],[0.20635018],[1.2702284],[0.26927146],[0.22582696],[1.1264979],[1.9918727],[1.0976635],[1.1925455],[0.3083565],[0.06177442],[0.11614121],[0.7260276],[2.0744646],[0.0383507],[1.4002646],[1.5101415],[0.044008303],[1.5021523],[1.1259906],[1.5483862],[0.35068604],[1.9150795],[0.026911654],[1.5765752],[1.286649],[1.9616975],[0.7624429],[1.9037399],[0.7203837],[0.22669595],[1.9042693],[-0.06943128],[1.1803595],[1.0254148],[0.4119847],[-0.029657025],[0.09504816],[2.0011802],[0.5168491],[0.34499785],[0.17124245],[1.8319455],[0.42213428],[1.2920196],[1.4032539],[0.19294186],[2.10221],[1.9930768],[0.9715273],[0.03957989],[1.5902402],[1.1759512],[0.171158],[0.09897364],[1.9340326],[0.26095268],[0.91625047]],\"hovertemplate\":\"Cluster=Cluster 0\\u003cbr\\u003ePCA1=%{x}\\u003cbr\\u003ePCA2=%{y}\\u003cbr\\u003eFeature=%{customdata[0]}\\u003cextra\\u003e\\u003c\\u002fextra\\u003e\",\"legendgroup\":\"Cluster 0\",\"marker\":{\"color\":\"#636efa\",\"opacity\":0.5,\"symbol\":\"circle\"},\"mode\":\"markers\",\"name\":\"Cluster 0\",\"orientation\":\"v\",\"showlegend\":true,\"x\":[0.31380185,-0.41588214,-0.067118846,-0.3375975,1.3327136,1.2345166,1.4246322,1.0206745,0.093703724,1.4716909,0.38716477,-0.3279684,0.42213422,1.372067,1.3301642,-0.57921135,-0.2099483,-0.22151043,0.12548663,0.38461426,0.09678302,1.426607,0.7305223,0.6050061,0.06200438,-0.1852237,1.2783612,0.7932439,-0.53357005,-0.0979864,1.3431964,1.3363872,0.3312368,1.5097183,-0.15726554,0.753992,1.2540295,1.2193098,1.0908248,1.0596695,0.730999,-0.23906532,0.41716173,1.3292797,1.0481766,1.5341988,0.16196653,1.3657734,1.2684764,1.2977529,0.4563307,1.2610872,1.3051338,1.210442,-0.48218387,0.2563808,-0.5806266,0.89838666,0.24731247,1.0963849,1.3380433,1.3750521,-0.3631961,1.202303,1.1670073,-0.33320034,-0.4187898,0.5215513,1.3860247,1.282706,1.3398547,0.6510841,-0.49026117,1.4323744,0.44127914,1.0543998,0.1535371,-0.5019969,0.3696765,-0.4767656,1.4659754,1.3050885,1.2661896,1.225596,0.7584888,0.10190538,0.57681227,0.5993055,0.96323544,0.06273599,1.3570421,1.3621229,1.3793586,-0.22847372,0.9205782,-0.07348531,-0.15341908,0.828414,1.330498,0.7664015,0.8960381,-0.000108249624,-0.37388623,-0.3598147,0.4300369,1.4395704,-0.44975415,1.0501077,1.1600478,-0.42595717,1.1609136,0.81403565,1.1454335,0.031125,1.4353895,-0.46385485,1.2352828,0.9905222,1.4084322,0.4543908,1.330652,0.42058235,-0.14316143,1.4549558,-0.6047758,0.88053936,0.7245855,0.08682694,-0.5758021,-0.3693944,1.4043825,0.19973946,-0.007964339,-0.23257312,1.2679353,0.08635791,0.9505123,1.1102481,-0.2152453,1.4639267,1.3999244,0.6940469,-0.43178004,1.1899056,0.8960733,-0.21455882,-0.4515049,1.2853086,-0.07767611,0.6291335],\"xaxis\":\"x\",\"y\":[0.55446965,0.27415863,0.46210387,0.3367615,0.19422944,0.17987493,-0.5504375,0.4670971,0.544081,-0.3265053,0.64215696,0.2551719,0.6253333,-0.22142018,-0.08785169,0.054171383,0.47963196,0.39838177,0.57618546,0.5402071,0.60361993,-0.5900887,0.454422,0.59103125,0.5764416,0.4782522,-0.17566837,0.4485678,0.22562511,0.5061148,0.079346605,-0.009032269,0.6968784,-0.15633558,0.417408,0.53273934,0.011247848,0.046116374,0.3191796,0.23546915,0.5353,0.4526004,0.7214688,0.12064472,0.3724926,-0.5543465,0.56235087,-0.4530732,-0.1708346,-0.07066365,0.56473875,0.022993043,-0.5117766,0.17344683,0.20771997,0.5902286,-0.11633721,0.3947597,0.712638,0.40160167,-0.6835525,-0.0656529,0.2817121,0.2731423,0.3282479,0.2681078,-0.08138378,0.5619035,-0.21710129,-0.0800921,-0.0816357,0.59468824,0.03243573,-0.36161858,0.49822494,0.33580038,0.61770594,0.017076066,0.59019774,0.091086514,-0.34911907,0.13600145,-0.3910203,0.19200006,0.48593292,0.54658675,0.6017936,0.5569373,0.36425546,0.45855868,-0.30492902,-0.27409995,-0.6704331,0.24428251,0.32659513,0.5098885,0.40762702,0.5044401,-0.72457683,0.40972513,0.4984314,0.60627556,0.26526713,0.13571006,0.5757818,-0.6586622,0.11195216,0.3039484,0.28628463,0.16537775,0.3141116,0.46296534,0.12170678,0.56615347,-0.16777804,0.10583662,0.30185825,0.48428175,-0.39578137,0.53372943,-0.44575253,0.56528234,0.43561393,-0.07501494,-0.012063091,0.49048713,0.51263946,0.53942573,-0.050884083,0.17363098,-0.53261876,0.5464987,0.467009,0.34288692,-0.40688977,0.5059636,0.3474502,0.47468543,0.32626387,-0.67332405,-0.52038056,0.591348,0.16191952,0.1227496,0.55094904,0.39712372,-0.08476746,-0.6772772,0.52360755,0.571459],\"yaxis\":\"y\",\"type\":\"scatter\",\"textposition\":\"top center\"},{\"customdata\":[[0.13804227],[0.96562684],[-0.9188801],[-0.81681937],[-0.57179874],[-0.63908684],[0.23914543],[-0.23552893],[-0.90887594],[0.10326773],[-0.90855634],[0.9328886],[-0.83427113],[0.8291877],[-0.91861045],[0.5895189],[0.87499607],[0.49462378],[-0.27513087],[0.69178855],[0.55752325],[0.9527053],[-0.23222172],[-1.0039395],[0.5944432],[-0.5536596],[0.9935391],[-0.8881489],[-0.6348847],[0.44288728],[-0.14856675],[0.22860992],[-0.43354025],[0.91679335],[-0.91183263],[0.6774539],[-1.0176086],[-0.9205376],[1.007632],[0.45391718],[0.54791176],[0.98224366],[-0.6379283],[-0.1481147],[0.6242697],[0.47044373],[0.5191778],[-0.98154557],[0.26920095],[0.8552968],[-0.21878581],[0.89421207],[0.023800364],[-0.41255668],[-0.3917752],[0.88236374],[0.34861034],[0.9026251],[0.78613544],[0.89493984],[0.36828592],[-0.5534313],[-0.97430336],[-0.94735575],[-0.17293026],[-0.1682741],[0.15659535],[0.81897116],[-0.8793792],[-0.12885515],[-0.676287],[-0.7692535],[-0.019593619],[-1.0893171],[0.9332428],[-0.6755883],[-0.15243496],[0.9338986],[-0.61266315],[0.94814587],[0.37221104],[0.6262786],[-0.9279099],[-0.06211403],[-0.78312355],[-0.67208105],[0.61213744],[1.0046182],[0.8199492],[0.85245156],[-0.82324356],[1.0050164],[-0.2737544],[0.584257],[-0.03472009],[-0.41678423],[-0.0434911],[0.23623794],[0.31725636],[0.7980475],[0.981337],[0.11502361],[-0.038071364],[0.89500535],[-0.6859272],[0.17694095],[-0.14979678],[0.9500912],[0.71693844],[0.8116413],[-1.0305573],[0.43925926],[-0.39248323],[0.6208193],[-0.2869972],[-1.038884],[0.79650825],[-0.99323547],[1.0553164],[-0.5036369],[-0.49138325],[0.75266945],[0.17040753],[-0.8929015],[-0.41632986],[-0.7001089],[-0.7112959],[0.7052776],[0.8709919],[-0.947481],[0.186043],[0.15071724],[0.79020727],[-1.1046627],[0.92341065],[-0.3621383],[-0.95209754],[-0.18708062],[-0.7618051],[-0.98950154],[0.37797943],[-1.0021901],[0.6951012],[-0.8887457],[-0.9743079],[-0.7658868],[-0.67813694],[1.0248405],[-1.0288292],[-0.5069526]],\"hovertemplate\":\"Cluster=Cluster 1\\u003cbr\\u003ePCA1=%{x}\\u003cbr\\u003ePCA2=%{y}\\u003cbr\\u003eFeature=%{customdata[0]}\\u003cextra\\u003e\\u003c\\u002fextra\\u003e\",\"legendgroup\":\"Cluster 1\",\"marker\":{\"color\":\"#EF553B\",\"opacity\":0.5,\"symbol\":\"circle\"},\"mode\":\"markers\",\"name\":\"Cluster 1\",\"orientation\":\"v\",\"showlegend\":true,\"x\":[-0.5961287,0.38996264,-1.460472,-1.359711,-1.2058483,-1.2600441,-0.4645916,-0.93202657,-1.32236,-0.624964,-1.3638397,0.44535986,-1.3374754,0.19295059,-1.353979,-0.089425206,0.358404,-0.18460411,-0.92537266,0.06659449,-0.11819779,0.48885664,-0.91816115,-1.3818225,-0.086640514,-1.1848307,0.52743423,-1.3393725,-1.2385677,-0.25697124,-0.8350742,-0.52838844,-1.0983305,0.3856225,-1.3775983,0.029665574,-1.3636023,-1.4625571,0.43046007,-0.21976139,-0.14214906,0.53416145,-1.1948607,-0.85858583,-0.031975046,-0.23190343,-0.20088884,-1.4174086,-0.44599423,0.2713126,-0.89925575,0.38067606,-0.68964565,-1.0601304,-1.0557995,0.2739957,-0.35243994,0.4410608,0.15986897,0.29800552,-0.35151276,-1.1771895,-1.4592037,-1.4225745,-0.883924,-0.8858989,-0.56073195,0.23400968,-1.3878405,-0.83115506,-1.2612126,-1.318111,-0.71589845,-1.4813701,0.3850098,-1.2771292,-0.8346863,0.41616037,-1.2067086,0.4796687,-0.32393783,-0.07463893,-1.2814696,-0.7719616,-1.3314831,-1.2949828,-0.06026812,0.43424106,0.19026837,0.2870526,-1.3575429,0.537772,-0.97407705,-0.1275941,-0.7730784,-1.0624145,-0.781846,-0.47068524,-0.42186683,0.18728322,0.45451623,-0.628485,-0.74846923,0.31159672,-1.2799258,-0.56199175,-0.8247465,0.43122995,0.08245193,0.20568088,-1.4099747,-0.24794653,-1.0575749,-0.03062148,-0.9252761,-1.4782726,0.19178738,-1.3833451,0.5943062,-1.1455883,-1.1340928,0.08516041,-0.54244643,-1.3984579,-1.0643095,-1.2354304,-1.2674109,0.03634014,0.31447324,-1.2779347,-0.54605716,-0.56393117,0.16699867,-1.487791,0.36498323,-1.0275924,-1.3833777,-0.9037111,-1.3446213,-1.3713716,-0.3207768,-1.432525,0.024839887,-1.36464,-1.3967528,-1.3514055,-1.2304758,0.5451961,-1.419527,-1.14236],\"xaxis\":\"x\",\"y\":[-0.6414514,-0.30104122,0.10724221,0.08676524,-0.22615263,-0.17599492,-0.56670034,-0.46788377,0.48942375,-0.6180075,0.36414272,-0.031671096,0.20850317,-0.46034616,0.4254403,-0.54935217,-0.109336995,-0.53478324,-0.3228681,-0.40493625,-0.53449714,0.036053628,-0.4367894,0.6115297,-0.5565624,-0.22047602,0.022659384,0.37298906,-0.12492495,-0.5881854,-0.45208365,-0.7245576,-0.3407156,-0.1598061,0.33326998,-0.47029862,0.7092904,0.106231496,-0.3123838,-0.51154345,-0.5758969,0.07849006,0.015632618,-0.5239515,-0.4869922,-0.6001189,-0.66112435,0.4341851,-0.6059121,-0.30804047,-0.42258593,-0.10330352,-0.56079787,-0.29254487,-0.34520715,-0.38549173,-0.5764373,0.0510351,-0.423479,-0.35328013,-0.6358038,-0.19830427,0.2860938,0.31072116,-0.52148527,-0.54210794,-0.594003,-0.30506614,0.2000826,-0.50259995,-0.06200173,0.06116292,-0.50239253,0.58294904,-0.21359639,-0.11189387,-0.43870375,-0.12234188,-0.09966219,0.022927709,-0.5655877,-0.6211566,0.67204815,-0.5360573,0.06490856,-0.17646027,-0.533438,-0.2915368,-0.43920264,-0.2518976,0.11355131,0.017380329,-0.47313243,-0.64708537,-0.6259252,-0.28603595,-0.62449,-0.5757735,-0.6854078,-0.37897062,-0.15726094,-0.66568667,-0.54161215,-0.3127682,-0.08761726,-0.662038,-0.41725728,-0.1283373,-0.43686256,-0.36678717,0.6112574,-0.5496889,-0.34828994,-0.47203887,-0.2850996,0.43293944,-0.36061472,0.57315975,0.027884463,-0.2609019,-0.26516402,-0.5416027,-0.58284545,0.2109828,-0.29314825,0.090481594,0.030002804,-0.53818166,-0.22830507,0.7444522,-0.64304686,-0.5850223,-0.41497946,0.6121811,-0.24254099,-0.35430652,0.44313052,-0.53607327,-0.04178633,0.59723836,-0.5743364,0.4541014,-0.5404943,0.2991743,0.4732091,-0.04921977,0.03592777,-0.022990396,0.5771815,-0.2407575],\"yaxis\":\"y\",\"type\":\"scatter\",\"textposition\":\"top center\"}],                        {\"template\":{\"data\":{\"histogram2dcontour\":[{\"type\":\"histogram2dcontour\",\"colorbar\":{\"outlinewidth\":0,\"ticks\":\"\"},\"colorscale\":[[0.0,\"#0d0887\"],[0.1111111111111111,\"#46039f\"],[0.2222222222222222,\"#7201a8\"],[0.3333333333333333,\"#9c179e\"],[0.4444444444444444,\"#bd3786\"],[0.5555555555555556,\"#d8576b\"],[0.6666666666666666,\"#ed7953\"],[0.7777777777777778,\"#fb9f3a\"],[0.8888888888888888,\"#fdca26\"],[1.0,\"#f0f921\"]]}],\"choropleth\":[{\"type\":\"choropleth\",\"colorbar\":{\"outlinewidth\":0,\"ticks\":\"\"}}],\"histogram2d\":[{\"type\":\"histogram2d\",\"colorbar\":{\"outlinewidth\":0,\"ticks\":\"\"},\"colorscale\":[[0.0,\"#0d0887\"],[0.1111111111111111,\"#46039f\"],[0.2222222222222222,\"#7201a8\"],[0.3333333333333333,\"#9c179e\"],[0.4444444444444444,\"#bd3786\"],[0.5555555555555556,\"#d8576b\"],[0.6666666666666666,\"#ed7953\"],[0.7777777777777778,\"#fb9f3a\"],[0.8888888888888888,\"#fdca26\"],[1.0,\"#f0f921\"]]}],\"heatmap\":[{\"type\":\"heatmap\",\"colorbar\":{\"outlinewidth\":0,\"ticks\":\"\"},\"colorscale\":[[0.0,\"#0d0887\"],[0.1111111111111111,\"#46039f\"],[0.2222222222222222,\"#7201a8\"],[0.3333333333333333,\"#9c179e\"],[0.4444444444444444,\"#bd3786\"],[0.5555555555555556,\"#d8576b\"],[0.6666666666666666,\"#ed7953\"],[0.7777777777777778,\"#fb9f3a\"],[0.8888888888888888,\"#fdca26\"],[1.0,\"#f0f921\"]]}],\"heatmapgl\":[{\"type\":\"heatmapgl\",\"colorbar\":{\"outlinewidth\":0,\"ticks\":\"\"},\"colorscale\":[[0.0,\"#0d0887\"],[0.1111111111111111,\"#46039f\"],[0.2222222222222222,\"#7201a8\"],[0.3333333333333333,\"#9c179e\"],[0.4444444444444444,\"#bd3786\"],[0.5555555555555556,\"#d8576b\"],[0.6666666666666666,\"#ed7953\"],[0.7777777777777778,\"#fb9f3a\"],[0.8888888888888888,\"#fdca26\"],[1.0,\"#f0f921\"]]}],\"contourcarpet\":[{\"type\":\"contourcarpet\",\"colorbar\":{\"outlinewidth\":0,\"ticks\":\"\"}}],\"contour\":[{\"type\":\"contour\",\"colorbar\":{\"outlinewidth\":0,\"ticks\":\"\"},\"colorscale\":[[0.0,\"#0d0887\"],[0.1111111111111111,\"#46039f\"],[0.2222222222222222,\"#7201a8\"],[0.3333333333333333,\"#9c179e\"],[0.4444444444444444,\"#bd3786\"],[0.5555555555555556,\"#d8576b\"],[0.6666666666666666,\"#ed7953\"],[0.7777777777777778,\"#fb9f3a\"],[0.8888888888888888,\"#fdca26\"],[1.0,\"#f0f921\"]]}],\"surface\":[{\"type\":\"surface\",\"colorbar\":{\"outlinewidth\":0,\"ticks\":\"\"},\"colorscale\":[[0.0,\"#0d0887\"],[0.1111111111111111,\"#46039f\"],[0.2222222222222222,\"#7201a8\"],[0.3333333333333333,\"#9c179e\"],[0.4444444444444444,\"#bd3786\"],[0.5555555555555556,\"#d8576b\"],[0.6666666666666666,\"#ed7953\"],[0.7777777777777778,\"#fb9f3a\"],[0.8888888888888888,\"#fdca26\"],[1.0,\"#f0f921\"]]}],\"mesh3d\":[{\"type\":\"mesh3d\",\"colorbar\":{\"outlinewidth\":0,\"ticks\":\"\"}}],\"scatter\":[{\"fillpattern\":{\"fillmode\":\"overlay\",\"size\":10,\"solidity\":0.2},\"type\":\"scatter\"}],\"parcoords\":[{\"type\":\"parcoords\",\"line\":{\"colorbar\":{\"outlinewidth\":0,\"ticks\":\"\"}}}],\"scatterpolargl\":[{\"type\":\"scatterpolargl\",\"marker\":{\"colorbar\":{\"outlinewidth\":0,\"ticks\":\"\"}}}],\"bar\":[{\"error_x\":{\"color\":\"#2a3f5f\"},\"error_y\":{\"color\":\"#2a3f5f\"},\"marker\":{\"line\":{\"color\":\"#E5ECF6\",\"width\":0.5},\"pattern\":{\"fillmode\":\"overlay\",\"size\":10,\"solidity\":0.2}},\"type\":\"bar\"}],\"scattergeo\":[{\"type\":\"scattergeo\",\"marker\":{\"colorbar\":{\"outlinewidth\":0,\"ticks\":\"\"}}}],\"scatterpolar\":[{\"type\":\"scatterpolar\",\"marker\":{\"colorbar\":{\"outlinewidth\":0,\"ticks\":\"\"}}}],\"histogram\":[{\"marker\":{\"pattern\":{\"fillmode\":\"overlay\",\"size\":10,\"solidity\":0.2}},\"type\":\"histogram\"}],\"scattergl\":[{\"type\":\"scattergl\",\"marker\":{\"colorbar\":{\"outlinewidth\":0,\"ticks\":\"\"}}}],\"scatter3d\":[{\"type\":\"scatter3d\",\"line\":{\"colorbar\":{\"outlinewidth\":0,\"ticks\":\"\"}},\"marker\":{\"colorbar\":{\"outlinewidth\":0,\"ticks\":\"\"}}}],\"scattermapbox\":[{\"type\":\"scattermapbox\",\"marker\":{\"colorbar\":{\"outlinewidth\":0,\"ticks\":\"\"}}}],\"scatterternary\":[{\"type\":\"scatterternary\",\"marker\":{\"colorbar\":{\"outlinewidth\":0,\"ticks\":\"\"}}}],\"scattercarpet\":[{\"type\":\"scattercarpet\",\"marker\":{\"colorbar\":{\"outlinewidth\":0,\"ticks\":\"\"}}}],\"carpet\":[{\"aaxis\":{\"endlinecolor\":\"#2a3f5f\",\"gridcolor\":\"white\",\"linecolor\":\"white\",\"minorgridcolor\":\"white\",\"startlinecolor\":\"#2a3f5f\"},\"baxis\":{\"endlinecolor\":\"#2a3f5f\",\"gridcolor\":\"white\",\"linecolor\":\"white\",\"minorgridcolor\":\"white\",\"startlinecolor\":\"#2a3f5f\"},\"type\":\"carpet\"}],\"table\":[{\"cells\":{\"fill\":{\"color\":\"#EBF0F8\"},\"line\":{\"color\":\"white\"}},\"header\":{\"fill\":{\"color\":\"#C8D4E3\"},\"line\":{\"color\":\"white\"}},\"type\":\"table\"}],\"barpolar\":[{\"marker\":{\"line\":{\"color\":\"#E5ECF6\",\"width\":0.5},\"pattern\":{\"fillmode\":\"overlay\",\"size\":10,\"solidity\":0.2}},\"type\":\"barpolar\"}],\"pie\":[{\"automargin\":true,\"type\":\"pie\"}]},\"layout\":{\"autotypenumbers\":\"strict\",\"colorway\":[\"#636efa\",\"#EF553B\",\"#00cc96\",\"#ab63fa\",\"#FFA15A\",\"#19d3f3\",\"#FF6692\",\"#B6E880\",\"#FF97FF\",\"#FECB52\"],\"font\":{\"color\":\"#2a3f5f\"},\"hovermode\":\"closest\",\"hoverlabel\":{\"align\":\"left\"},\"paper_bgcolor\":\"white\",\"plot_bgcolor\":\"#E5ECF6\",\"polar\":{\"bgcolor\":\"#E5ECF6\",\"angularaxis\":{\"gridcolor\":\"white\",\"linecolor\":\"white\",\"ticks\":\"\"},\"radialaxis\":{\"gridcolor\":\"white\",\"linecolor\":\"white\",\"ticks\":\"\"}},\"ternary\":{\"bgcolor\":\"#E5ECF6\",\"aaxis\":{\"gridcolor\":\"white\",\"linecolor\":\"white\",\"ticks\":\"\"},\"baxis\":{\"gridcolor\":\"white\",\"linecolor\":\"white\",\"ticks\":\"\"},\"caxis\":{\"gridcolor\":\"white\",\"linecolor\":\"white\",\"ticks\":\"\"}},\"coloraxis\":{\"colorbar\":{\"outlinewidth\":0,\"ticks\":\"\"}},\"colorscale\":{\"sequential\":[[0.0,\"#0d0887\"],[0.1111111111111111,\"#46039f\"],[0.2222222222222222,\"#7201a8\"],[0.3333333333333333,\"#9c179e\"],[0.4444444444444444,\"#bd3786\"],[0.5555555555555556,\"#d8576b\"],[0.6666666666666666,\"#ed7953\"],[0.7777777777777778,\"#fb9f3a\"],[0.8888888888888888,\"#fdca26\"],[1.0,\"#f0f921\"]],\"sequentialminus\":[[0.0,\"#0d0887\"],[0.1111111111111111,\"#46039f\"],[0.2222222222222222,\"#7201a8\"],[0.3333333333333333,\"#9c179e\"],[0.4444444444444444,\"#bd3786\"],[0.5555555555555556,\"#d8576b\"],[0.6666666666666666,\"#ed7953\"],[0.7777777777777778,\"#fb9f3a\"],[0.8888888888888888,\"#fdca26\"],[1.0,\"#f0f921\"]],\"diverging\":[[0,\"#8e0152\"],[0.1,\"#c51b7d\"],[0.2,\"#de77ae\"],[0.3,\"#f1b6da\"],[0.4,\"#fde0ef\"],[0.5,\"#f7f7f7\"],[0.6,\"#e6f5d0\"],[0.7,\"#b8e186\"],[0.8,\"#7fbc41\"],[0.9,\"#4d9221\"],[1,\"#276419\"]]},\"xaxis\":{\"gridcolor\":\"white\",\"linecolor\":\"white\",\"ticks\":\"\",\"title\":{\"standoff\":15},\"zerolinecolor\":\"white\",\"automargin\":true,\"zerolinewidth\":2},\"yaxis\":{\"gridcolor\":\"white\",\"linecolor\":\"white\",\"ticks\":\"\",\"title\":{\"standoff\":15},\"zerolinecolor\":\"white\",\"automargin\":true,\"zerolinewidth\":2},\"scene\":{\"xaxis\":{\"backgroundcolor\":\"#E5ECF6\",\"gridcolor\":\"white\",\"linecolor\":\"white\",\"showbackground\":true,\"ticks\":\"\",\"zerolinecolor\":\"white\",\"gridwidth\":2},\"yaxis\":{\"backgroundcolor\":\"#E5ECF6\",\"gridcolor\":\"white\",\"linecolor\":\"white\",\"showbackground\":true,\"ticks\":\"\",\"zerolinecolor\":\"white\",\"gridwidth\":2},\"zaxis\":{\"backgroundcolor\":\"#E5ECF6\",\"gridcolor\":\"white\",\"linecolor\":\"white\",\"showbackground\":true,\"ticks\":\"\",\"zerolinecolor\":\"white\",\"gridwidth\":2}},\"shapedefaults\":{\"line\":{\"color\":\"#2a3f5f\"}},\"annotationdefaults\":{\"arrowcolor\":\"#2a3f5f\",\"arrowhead\":0,\"arrowwidth\":1},\"geo\":{\"bgcolor\":\"white\",\"landcolor\":\"#E5ECF6\",\"subunitcolor\":\"white\",\"showland\":true,\"showlakes\":true,\"lakecolor\":\"white\"},\"title\":{\"x\":0.05},\"mapbox\":{\"style\":\"light\"}}},\"xaxis\":{\"anchor\":\"y\",\"domain\":[0.0,1.0],\"title\":{\"text\":\"PCA1\"}},\"yaxis\":{\"anchor\":\"x\",\"domain\":[0.0,1.0],\"title\":{\"text\":\"PCA2\"}},\"legend\":{\"title\":{\"text\":\"Cluster\"},\"tracegroupgap\":0},\"margin\":{\"t\":60},\"plot_bgcolor\":\"rgb(240,240,240)\",\"title\":{\"text\":\"2D Cluster PCA Plot\"},\"height\":600},                        {\"responsive\": true}                    ).then(function(){\n",
              "                            \n",
              "var gd = document.getElementById('471b8b27-71b0-40c4-9ee0-6189d53450fc');\n",
              "var x = new MutationObserver(function (mutations, observer) {{\n",
              "        var display = window.getComputedStyle(gd).display;\n",
              "        if (!display || display === 'none') {{\n",
              "            console.log([gd, 'removed!']);\n",
              "            Plotly.purge(gd);\n",
              "            observer.disconnect();\n",
              "        }}\n",
              "}});\n",
              "\n",
              "// Listen for the removal of the full notebook cells\n",
              "var notebookContainer = gd.closest('#notebook-container');\n",
              "if (notebookContainer) {{\n",
              "    x.observe(notebookContainer, {childList: true});\n",
              "}}\n",
              "\n",
              "// Listen for the clearing of the current output cell\n",
              "var outputEl = gd.closest('.output');\n",
              "if (outputEl) {{\n",
              "    x.observe(outputEl, {childList: true});\n",
              "}}\n",
              "\n",
              "                        })                };                            </script>        </div>\n",
              "</body>\n",
              "</html>"
            ]
          },
          "metadata": {}
        }
      ]
    },
    {
      "cell_type": "code",
      "source": [
        "# Assign the Labels to the Dataset\n",
        "df_clustered = assign_model(dbscan_model)\n",
        "print(df_clustered)"
      ],
      "metadata": {
        "colab": {
          "base_uri": "https://localhost:8080/"
        },
        "id": "t6984hafB5eH",
        "outputId": "84081392-a4ca-4fb6-d816-dd89d205e8f1"
      },
      "execution_count": 14,
      "outputs": [
        {
          "output_type": "stream",
          "name": "stdout",
          "text": [
            "     Feature_1  Feature_2    Cluster\n",
            "0     0.622519  -0.372101  Cluster 0\n",
            "1     1.904269  -0.136303  Cluster 0\n",
            "2    -0.069431   0.456117  Cluster 0\n",
            "3     0.933899   0.237483  Cluster 1\n",
            "4     1.180359  -0.490847  Cluster 0\n",
            "..         ...        ...        ...\n",
            "295   0.344998  -0.187267  Cluster 0\n",
            "296   0.138042   1.050389  Cluster 1\n",
            "297  -0.639087   0.819081  Cluster 1\n",
            "298   1.742488  -0.076951  Cluster 0\n",
            "299  -0.506953   0.843251  Cluster 1\n",
            "\n",
            "[300 rows x 3 columns]\n"
          ]
        }
      ]
    }
  ]
}